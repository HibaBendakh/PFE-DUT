{
 "cells": [
  {
   "cell_type": "code",
   "execution_count": 2,
   "metadata": {},
   "outputs": [
    {
     "name": "stdout",
     "output_type": "stream",
     "text": [
      "F1 Score: 0.98\n"
     ]
    },
    {
     "data": {
      "text/plain": [
       "['language_detection_model.joblib']"
      ]
     },
     "execution_count": 2,
     "metadata": {},
     "output_type": "execute_result"
    }
   ],
   "source": [
    "import numpy as np\n",
    "import pandas as pd\n",
    "import re\n",
    "from sklearn.preprocessing import LabelEncoder\n",
    "from sklearn.feature_extraction.text import CountVectorizer\n",
    "from sklearn.model_selection import train_test_split\n",
    "from sklearn.naive_bayes import MultinomialNB\n",
    "from sklearn.metrics import f1_score, confusion_matrix\n",
    "from joblib import dump\n",
    "\n",
    "# Load the dataset\n",
    "df = pd.read_csv(\"Language Detection.csv\")\n",
    "\n",
    "# Preprocessing\n",
    "def preprocess_text(text):\n",
    "    text = re.sub(r'[!@#$(),n\"%^*?:;~`0-9]', '', text)\n",
    "    text = re.sub(r'\\[|\\]', ' ', text)  # Properly escape square brackets\n",
    "    text = text.lower()\n",
    "    return text\n",
    "\n",
    "df['Processed_Text'] = df['Text'].apply(preprocess_text)\n",
    "\n",
    "# Encoding target labels\n",
    "le = LabelEncoder()\n",
    "y = le.fit_transform(df['Language'])\n",
    "\n",
    "# Vectorization\n",
    "cv = CountVectorizer()\n",
    "X = cv.fit_transform(df['Processed_Text'])\n",
    "\n",
    "# Train-test split\n",
    "X_train, X_test, y_train, y_test = train_test_split(X, y, test_size=0.2, random_state=41)\n",
    "\n",
    "# Model training\n",
    "naive_bayes_classifier = MultinomialNB()\n",
    "naive_bayes_classifier.fit(X_train, y_train)\n",
    "\n",
    "# Model evaluation\n",
    "y_pred = naive_bayes_classifier.predict(X_test)\n",
    "f1 = f1_score(y_test, y_pred, average='macro')\n",
    "print(f'F1 Score: {f1:.2f}')\n",
    "\n",
    "# Saving the model and CountVectorizer\n",
    "dump((naive_bayes_classifier, cv, le), 'language_detection_model.joblib')\n"
   ]
  }
 ],
 "metadata": {
  "kernelspec": {
   "display_name": "Python 3",
   "language": "python",
   "name": "python3"
  },
  "language_info": {
   "codemirror_mode": {
    "name": "ipython",
    "version": 3
   },
   "file_extension": ".py",
   "mimetype": "text/x-python",
   "name": "python",
   "nbconvert_exporter": "python",
   "pygments_lexer": "ipython3",
   "version": "3.11.7"
  }
 },
 "nbformat": 4,
 "nbformat_minor": 2
}
